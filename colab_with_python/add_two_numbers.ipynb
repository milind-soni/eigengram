{
  "nbformat": 4,
  "nbformat_minor": 0,
  "metadata": {
    "colab": {
      "provenance": []
    },
    "kernelspec": {
      "name": "python3",
      "display_name": "Python 3"
    },
    "language_info": {
      "name": "python"
    }
  },
  "cells": [
    {
      "cell_type": "code",
      "execution_count": 1,
      "metadata": {
        "id": "Girt_UUNgZA3"
      },
      "outputs": [],
      "source": [
        "# Define a function to add two numbers\n",
        "def add_two_numbers(num1, num2):\n",
        "    return num1 + num2"
      ]
    },
    {
      "cell_type": "code",
      "source": [
        "# Get input from the user\n",
        "number1 = float(input(\"Enter the first number: \"))\n",
        "number2 = float(input(\"Enter the second number: \"))\n"
      ],
      "metadata": {
        "colab": {
          "base_uri": "https://localhost:8080/"
        },
        "id": "C7nZtnL-gcA1",
        "outputId": "f71606b0-ceea-4bb9-cf0e-58672d1e75a5"
      },
      "execution_count": 2,
      "outputs": [
        {
          "name": "stdout",
          "output_type": "stream",
          "text": [
            "Enter the first number: 21\n",
            "Enter the second number: 20\n"
          ]
        }
      ]
    },
    {
      "cell_type": "code",
      "source": [
        "# Call the function and display the result\n",
        "result = add_two_numbers(number1, number2)\n",
        "print(f\"The sum of {number1} and {number2} is {result}\")"
      ],
      "metadata": {
        "colab": {
          "base_uri": "https://localhost:8080/"
        },
        "id": "tQdEJRlJgetN",
        "outputId": "69e62381-648b-4a07-c01d-009f4994c3e7"
      },
      "execution_count": 3,
      "outputs": [
        {
          "output_type": "stream",
          "name": "stdout",
          "text": [
            "The sum of 21.0 and 20.0 is 41.0\n"
          ]
        }
      ]
    }
  ]
}